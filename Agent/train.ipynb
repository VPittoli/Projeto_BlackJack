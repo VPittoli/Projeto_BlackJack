{
 "cells": [
  {
   "cell_type": "markdown",
   "id": "497dd293",
   "metadata": {},
   "source": [
    "# Treinamento do modelo\n",
    "\n",
    "Dataset: https://www.kaggle.com/datasets/dennisho/blackjack-hands/\n",
    "\n",
    "Modelo: MLP (sem o uso de card counting)"
   ]
  },
  {
   "cell_type": "markdown",
   "id": "376bc79f",
   "metadata": {},
   "source": [
    "## 1) Tratamento dos dados"
   ]
  },
  {
   "cell_type": "code",
   "execution_count": 42,
   "id": "7cbe2627",
   "metadata": {},
   "outputs": [
    {
     "data": {
      "text/html": [
       "<div>\n",
       "<style scoped>\n",
       "    .dataframe tbody tr th:only-of-type {\n",
       "        vertical-align: middle;\n",
       "    }\n",
       "\n",
       "    .dataframe tbody tr th {\n",
       "        vertical-align: top;\n",
       "    }\n",
       "\n",
       "    .dataframe thead th {\n",
       "        text-align: right;\n",
       "    }\n",
       "</style>\n",
       "<table border=\"1\" class=\"dataframe\">\n",
       "  <thead>\n",
       "    <tr style=\"text-align: right;\">\n",
       "      <th></th>\n",
       "      <th>dealer_final</th>\n",
       "      <th>player_final</th>\n",
       "      <th>actions_taken</th>\n",
       "      <th>win</th>\n",
       "    </tr>\n",
       "  </thead>\n",
       "  <tbody>\n",
       "    <tr>\n",
       "      <th>0</th>\n",
       "      <td>10</td>\n",
       "      <td>[[10, 11]]</td>\n",
       "      <td>[[S]]</td>\n",
       "      <td>1.5</td>\n",
       "    </tr>\n",
       "    <tr>\n",
       "      <th>1</th>\n",
       "      <td>10</td>\n",
       "      <td>[[5, 5, 11]]</td>\n",
       "      <td>[[H, S]]</td>\n",
       "      <td>1.0</td>\n",
       "    </tr>\n",
       "    <tr>\n",
       "      <th>2</th>\n",
       "      <td>6</td>\n",
       "      <td>[[3, 10]]</td>\n",
       "      <td>[[S]]</td>\n",
       "      <td>1.0</td>\n",
       "    </tr>\n",
       "    <tr>\n",
       "      <th>6</th>\n",
       "      <td>6</td>\n",
       "      <td>[[3, 2, 10], [3, 4, 5]]</td>\n",
       "      <td>[[P, H, S], [H, S]]</td>\n",
       "      <td>2.0</td>\n",
       "    </tr>\n",
       "    <tr>\n",
       "      <th>8</th>\n",
       "      <td>5</td>\n",
       "      <td>[[8, 10]]</td>\n",
       "      <td>[[S]]</td>\n",
       "      <td>1.0</td>\n",
       "    </tr>\n",
       "    <tr>\n",
       "      <th>...</th>\n",
       "      <td>...</td>\n",
       "      <td>...</td>\n",
       "      <td>...</td>\n",
       "      <td>...</td>\n",
       "    </tr>\n",
       "    <tr>\n",
       "      <th>29989</th>\n",
       "      <td>6</td>\n",
       "      <td>[[9, 2, 8]]</td>\n",
       "      <td>[[D]]</td>\n",
       "      <td>2.0</td>\n",
       "    </tr>\n",
       "    <tr>\n",
       "      <th>29991</th>\n",
       "      <td>5</td>\n",
       "      <td>[[7, 10], [7, 3, 8]]</td>\n",
       "      <td>[[P, S], [D]]</td>\n",
       "      <td>2.0</td>\n",
       "    </tr>\n",
       "    <tr>\n",
       "      <th>29992</th>\n",
       "      <td>8</td>\n",
       "      <td>[[10, 8]]</td>\n",
       "      <td>[[S]]</td>\n",
       "      <td>1.0</td>\n",
       "    </tr>\n",
       "    <tr>\n",
       "      <th>29994</th>\n",
       "      <td>5</td>\n",
       "      <td>[[9, 10]]</td>\n",
       "      <td>[[S]]</td>\n",
       "      <td>1.0</td>\n",
       "    </tr>\n",
       "    <tr>\n",
       "      <th>29995</th>\n",
       "      <td>5</td>\n",
       "      <td>[[10, 3]]</td>\n",
       "      <td>[[S]]</td>\n",
       "      <td>1.0</td>\n",
       "    </tr>\n",
       "  </tbody>\n",
       "</table>\n",
       "<p>12698 rows × 4 columns</p>\n",
       "</div>"
      ],
      "text/plain": [
       "       dealer_final             player_final        actions_taken  win\n",
       "0                10               [[10, 11]]                [[S]]  1.5\n",
       "1                10             [[5, 5, 11]]             [[H, S]]  1.0\n",
       "2                 6                [[3, 10]]                [[S]]  1.0\n",
       "6                 6  [[3, 2, 10], [3, 4, 5]]  [[P, H, S], [H, S]]  2.0\n",
       "8                 5                [[8, 10]]                [[S]]  1.0\n",
       "...             ...                      ...                  ...  ...\n",
       "29989             6              [[9, 2, 8]]                [[D]]  2.0\n",
       "29991             5     [[7, 10], [7, 3, 8]]        [[P, S], [D]]  2.0\n",
       "29992             8                [[10, 8]]                [[S]]  1.0\n",
       "29994             5                [[9, 10]]                [[S]]  1.0\n",
       "29995             5                [[10, 3]]                [[S]]  1.0\n",
       "\n",
       "[12698 rows x 4 columns]"
      ]
     },
     "execution_count": 42,
     "metadata": {},
     "output_type": "execute_result"
    }
   ],
   "source": [
    "import pandas as pd\n",
    "\n",
    "rows = 30000\n",
    "df = pd.read_csv('blackjack_simulator.csv', sep=',', nrows=rows)\n",
    "\n",
    "# Remove as colunas não utilizadas\n",
    "df = df.drop(columns=['shoe_id', 'run_count', 'true_count', 'cards_remaining', 'dealer_up', 'initial_hand', 'dealer_final_value', 'player_final_value'])\n",
    "\n",
    "# Filtra os dados por ganho\n",
    "df = df[df['win'] >= 1]\n",
    "\n",
    "# Transforma as strings em listas\n",
    "df['dealer_final'] = df['dealer_final'].apply(lambda x: eval(x)[0])  # Só a primeira carta do dealer será utilizada para emular as informações que um jogador tem\n",
    "df['player_final'] = df['player_final'].apply(lambda x: eval(x))\n",
    "df['actions_taken'] = df['actions_taken'].apply(lambda x: eval(x))\n",
    "df"
   ]
  },
  {
   "cell_type": "code",
   "execution_count": 43,
   "id": "c3f117a2",
   "metadata": {},
   "outputs": [
    {
     "data": {
      "text/html": [
       "<div>\n",
       "<style scoped>\n",
       "    .dataframe tbody tr th:only-of-type {\n",
       "        vertical-align: middle;\n",
       "    }\n",
       "\n",
       "    .dataframe tbody tr th {\n",
       "        vertical-align: top;\n",
       "    }\n",
       "\n",
       "    .dataframe thead th {\n",
       "        text-align: right;\n",
       "    }\n",
       "</style>\n",
       "<table border=\"1\" class=\"dataframe\">\n",
       "  <thead>\n",
       "    <tr style=\"text-align: right;\">\n",
       "      <th></th>\n",
       "      <th>dealer_final</th>\n",
       "      <th>player_final</th>\n",
       "      <th>actions_taken</th>\n",
       "      <th>win</th>\n",
       "    </tr>\n",
       "  </thead>\n",
       "  <tbody>\n",
       "    <tr>\n",
       "      <th>30000</th>\n",
       "      <td>3</td>\n",
       "      <td>12</td>\n",
       "      <td>H</td>\n",
       "      <td>1.0</td>\n",
       "    </tr>\n",
       "    <tr>\n",
       "      <th>30001</th>\n",
       "      <td>3</td>\n",
       "      <td>15</td>\n",
       "      <td>S</td>\n",
       "      <td>1.0</td>\n",
       "    </tr>\n",
       "    <tr>\n",
       "      <th>30002</th>\n",
       "      <td>2</td>\n",
       "      <td>21</td>\n",
       "      <td>S</td>\n",
       "      <td>1.5</td>\n",
       "    </tr>\n",
       "    <tr>\n",
       "      <th>30003</th>\n",
       "      <td>2</td>\n",
       "      <td>18</td>\n",
       "      <td>S</td>\n",
       "      <td>1.0</td>\n",
       "    </tr>\n",
       "    <tr>\n",
       "      <th>30004</th>\n",
       "      <td>8</td>\n",
       "      <td>15</td>\n",
       "      <td>H</td>\n",
       "      <td>1.0</td>\n",
       "    </tr>\n",
       "    <tr>\n",
       "      <th>...</th>\n",
       "      <td>...</td>\n",
       "      <td>...</td>\n",
       "      <td>...</td>\n",
       "      <td>...</td>\n",
       "    </tr>\n",
       "    <tr>\n",
       "      <th>31287</th>\n",
       "      <td>5</td>\n",
       "      <td>17</td>\n",
       "      <td>S</td>\n",
       "      <td>2.0</td>\n",
       "    </tr>\n",
       "    <tr>\n",
       "      <th>31288</th>\n",
       "      <td>5</td>\n",
       "      <td>10</td>\n",
       "      <td>D</td>\n",
       "      <td>2.0</td>\n",
       "    </tr>\n",
       "    <tr>\n",
       "      <th>31289</th>\n",
       "      <td>8</td>\n",
       "      <td>18</td>\n",
       "      <td>S</td>\n",
       "      <td>1.0</td>\n",
       "    </tr>\n",
       "    <tr>\n",
       "      <th>31290</th>\n",
       "      <td>5</td>\n",
       "      <td>19</td>\n",
       "      <td>S</td>\n",
       "      <td>1.0</td>\n",
       "    </tr>\n",
       "    <tr>\n",
       "      <th>31291</th>\n",
       "      <td>5</td>\n",
       "      <td>13</td>\n",
       "      <td>S</td>\n",
       "      <td>1.0</td>\n",
       "    </tr>\n",
       "  </tbody>\n",
       "</table>\n",
       "<p>1292 rows × 4 columns</p>\n",
       "</div>"
      ],
      "text/plain": [
       "       dealer_final player_final actions_taken  win\n",
       "30000             3           12             H  1.0\n",
       "30001             3           15             S  1.0\n",
       "30002             2           21             S  1.5\n",
       "30003             2           18             S  1.0\n",
       "30004             8           15             H  1.0\n",
       "...             ...          ...           ...  ...\n",
       "31287             5           17             S  2.0\n",
       "31288             5           10             D  2.0\n",
       "31289             8           18             S  1.0\n",
       "31290             5           19             S  1.0\n",
       "31291             5           13             S  1.0\n",
       "\n",
       "[1292 rows x 4 columns]"
      ]
     },
     "execution_count": 43,
     "metadata": {},
     "output_type": "execute_result"
    }
   ],
   "source": [
    "# Divide as ações dos players em vários estados de jogo\n",
    "for i in range(0, len(df.index)):\n",
    "    linha = df.loc[i]\n",
    "\n",
    "    for j in range(0, len(linha['actions_taken'])):\n",
    "        mao = linha['player_final'][j]\n",
    "        acoes = linha['actions_taken'][j]\n",
    "\n",
    "        # print({'dealer_final': linha['dealer_final'], 'player_final': mao[:4], 'actions_taken': acoes[0]})\n",
    "\n",
    "        for k in range(0, len(acoes)):\n",
    "            acao = acoes[k]\n",
    "\n",
    "            df = pd.concat([df, pd.DataFrame([{'dealer_final': linha['dealer_final'], 'player_final': sum(mao[:2+k]), 'actions_taken': acoes[k], 'win': linha['win']}])], ignore_index=True)\n",
    "\n",
    "df = df.drop(range(0, rows))\n",
    "df\n"
   ]
  },
  {
   "cell_type": "markdown",
   "id": "bc5af7b9",
   "metadata": {},
   "source": [
    "## 2) Treinamento"
   ]
  },
  {
   "cell_type": "code",
   "execution_count": 123,
   "id": "ad620370",
   "metadata": {},
   "outputs": [
    {
     "data": {
      "text/plain": [
       "0.8648648648648649"
      ]
     },
     "execution_count": 123,
     "metadata": {},
     "output_type": "execute_result"
    }
   ],
   "source": [
    "# from sklearn.neural_network import MLPClassifier\n",
    "from sklearn.linear_model import LogisticRegression\n",
    "from sklearn.model_selection import train_test_split\n",
    "import numpy as np\n",
    "\n",
    "X = df.drop(['actions_taken'], axis=1)\n",
    "y = df['actions_taken']\n",
    "\n",
    "X_train, X_test, y_train, y_test = train_test_split(X, y, test_size=0.2)\n",
    "\n",
    "# clf = MLPClassifier().fit(X_train, y_train)\n",
    "# clf.score()\n",
    "clf = LogisticRegression(max_iter=2000, random_state=0).fit(X_train, y_train, sample_weight=X_train['win'].values)\n",
    "clf.score(X_test, y_test)\n"
   ]
  },
  {
   "cell_type": "markdown",
   "id": "cbdf7e7d",
   "metadata": {},
   "source": [
    "### Probabilidade de realizar cada jogada"
   ]
  },
  {
   "cell_type": "code",
   "execution_count": 124,
   "id": "c69a0555",
   "metadata": {},
   "outputs": [
    {
     "data": {
      "text/html": [
       "<div>\n",
       "<style scoped>\n",
       "    .dataframe tbody tr th:only-of-type {\n",
       "        vertical-align: middle;\n",
       "    }\n",
       "\n",
       "    .dataframe tbody tr th {\n",
       "        vertical-align: top;\n",
       "    }\n",
       "\n",
       "    .dataframe thead th {\n",
       "        text-align: right;\n",
       "    }\n",
       "</style>\n",
       "<table border=\"1\" class=\"dataframe\">\n",
       "  <thead>\n",
       "    <tr style=\"text-align: right;\">\n",
       "      <th></th>\n",
       "      <th>dealer_final</th>\n",
       "      <th>player_final</th>\n",
       "    </tr>\n",
       "  </thead>\n",
       "  <tbody>\n",
       "    <tr>\n",
       "      <th>31159</th>\n",
       "      <td>7</td>\n",
       "      <td>14</td>\n",
       "    </tr>\n",
       "  </tbody>\n",
       "</table>\n",
       "</div>"
      ],
      "text/plain": [
       "       dealer_final player_final\n",
       "31159             7           14"
      ]
     },
     "execution_count": 124,
     "metadata": {},
     "output_type": "execute_result"
    }
   ],
   "source": [
    "# Estado do jogo\n",
    "X_test[:1].drop(['win'], axis=1)"
   ]
  },
  {
   "cell_type": "code",
   "execution_count": 125,
   "id": "183447f7",
   "metadata": {},
   "outputs": [
    {
     "name": "stdout",
     "output_type": "stream",
     "text": [
      "JOGADA: D 5.83 %\n",
      "JOGADA: H 46.86 %\n",
      "JOGADA: N 0.00 %\n",
      "JOGADA: P 1.19 %\n",
      "JOGADA: S 46.12 %\n"
     ]
    }
   ],
   "source": [
    "# Probabilidade de realizar cada jogada\n",
    "classes = clf.classes_\n",
    "probabilidade = clf.predict_proba(X_test[:1])[0]\n",
    "\n",
    "for i in range(0, len(classes)):\n",
    "    print(f'JOGADA: {classes[i]} {probabilidade[i]*100.0:.02f} %')"
   ]
  },
  {
   "cell_type": "code",
   "execution_count": 126,
   "id": "6a6208a9",
   "metadata": {},
   "outputs": [
    {
     "data": {
      "text/plain": [
       "'H'"
      ]
     },
     "execution_count": 126,
     "metadata": {},
     "output_type": "execute_result"
    }
   ],
   "source": [
    "# Jogada a ser realizada\n",
    "clf.predict(X_test[:1])[0]"
   ]
  },
  {
   "cell_type": "markdown",
   "id": "93401d6c",
   "metadata": {},
   "source": [
    "## 3) Exportação"
   ]
  },
  {
   "cell_type": "code",
   "execution_count": 127,
   "id": "f2167efa",
   "metadata": {},
   "outputs": [],
   "source": [
    "import pickle\n",
    "\n",
    "with open('model.pkl', 'wb') as f:\n",
    "    pickle.dump(clf, f)"
   ]
  }
 ],
 "metadata": {
  "kernelspec": {
   "display_name": "venv",
   "language": "python",
   "name": "python3"
  },
  "language_info": {
   "codemirror_mode": {
    "name": "ipython",
    "version": 3
   },
   "file_extension": ".py",
   "mimetype": "text/x-python",
   "name": "python",
   "nbconvert_exporter": "python",
   "pygments_lexer": "ipython3",
   "version": "3.13.5"
  }
 },
 "nbformat": 4,
 "nbformat_minor": 5
}
