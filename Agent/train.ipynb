{
 "cells": [
  {
   "cell_type": "markdown",
   "id": "497dd293",
   "metadata": {},
   "source": [
    "# Treinamento do modelo\n",
    "\n",
    "Dataset: https://www.kaggle.com/datasets/dennisho/blackjack-hands/\n",
    "\n",
    "Modelo: MLP (sem o uso de card counting)"
   ]
  },
  {
   "cell_type": "markdown",
   "id": "376bc79f",
   "metadata": {},
   "source": [
    "## 1) Tratamento dos dados"
   ]
  },
  {
   "cell_type": "code",
   "execution_count": 3,
   "id": "7cbe2627",
   "metadata": {},
   "outputs": [
    {
     "data": {
      "text/html": [
       "<div>\n",
       "<style scoped>\n",
       "    .dataframe tbody tr th:only-of-type {\n",
       "        vertical-align: middle;\n",
       "    }\n",
       "\n",
       "    .dataframe tbody tr th {\n",
       "        vertical-align: top;\n",
       "    }\n",
       "\n",
       "    .dataframe thead th {\n",
       "        text-align: right;\n",
       "    }\n",
       "</style>\n",
       "<table border=\"1\" class=\"dataframe\">\n",
       "  <thead>\n",
       "    <tr style=\"text-align: right;\">\n",
       "      <th></th>\n",
       "      <th>dealer_final</th>\n",
       "      <th>player_final</th>\n",
       "      <th>actions_taken</th>\n",
       "      <th>win</th>\n",
       "    </tr>\n",
       "  </thead>\n",
       "  <tbody>\n",
       "    <tr>\n",
       "      <th>0</th>\n",
       "      <td>10</td>\n",
       "      <td>[[10, 11]]</td>\n",
       "      <td>[[S]]</td>\n",
       "      <td>1.5</td>\n",
       "    </tr>\n",
       "    <tr>\n",
       "      <th>1</th>\n",
       "      <td>10</td>\n",
       "      <td>[[5, 5, 11]]</td>\n",
       "      <td>[[H, S]]</td>\n",
       "      <td>1.0</td>\n",
       "    </tr>\n",
       "    <tr>\n",
       "      <th>2</th>\n",
       "      <td>6</td>\n",
       "      <td>[[3, 10]]</td>\n",
       "      <td>[[S]]</td>\n",
       "      <td>1.0</td>\n",
       "    </tr>\n",
       "    <tr>\n",
       "      <th>6</th>\n",
       "      <td>6</td>\n",
       "      <td>[[3, 2, 10], [3, 4, 5]]</td>\n",
       "      <td>[[P, H, S], [H, S]]</td>\n",
       "      <td>2.0</td>\n",
       "    </tr>\n",
       "    <tr>\n",
       "      <th>8</th>\n",
       "      <td>5</td>\n",
       "      <td>[[8, 10]]</td>\n",
       "      <td>[[S]]</td>\n",
       "      <td>1.0</td>\n",
       "    </tr>\n",
       "    <tr>\n",
       "      <th>...</th>\n",
       "      <td>...</td>\n",
       "      <td>...</td>\n",
       "      <td>...</td>\n",
       "      <td>...</td>\n",
       "    </tr>\n",
       "    <tr>\n",
       "      <th>49984</th>\n",
       "      <td>11</td>\n",
       "      <td>[[5, 5, 10]]</td>\n",
       "      <td>[[N, H, S]]</td>\n",
       "      <td>1.0</td>\n",
       "    </tr>\n",
       "    <tr>\n",
       "      <th>49988</th>\n",
       "      <td>3</td>\n",
       "      <td>[[3, 10]]</td>\n",
       "      <td>[[S]]</td>\n",
       "      <td>1.0</td>\n",
       "    </tr>\n",
       "    <tr>\n",
       "      <th>49990</th>\n",
       "      <td>8</td>\n",
       "      <td>[[4, 6, 9]]</td>\n",
       "      <td>[[D]]</td>\n",
       "      <td>2.0</td>\n",
       "    </tr>\n",
       "    <tr>\n",
       "      <th>49991</th>\n",
       "      <td>10</td>\n",
       "      <td>[[7, 6, 6]]</td>\n",
       "      <td>[[H, S]]</td>\n",
       "      <td>1.0</td>\n",
       "    </tr>\n",
       "    <tr>\n",
       "      <th>49992</th>\n",
       "      <td>6</td>\n",
       "      <td>[[9, 5]]</td>\n",
       "      <td>[[S]]</td>\n",
       "      <td>1.0</td>\n",
       "    </tr>\n",
       "  </tbody>\n",
       "</table>\n",
       "<p>21193 rows × 4 columns</p>\n",
       "</div>"
      ],
      "text/plain": [
       "       dealer_final             player_final        actions_taken  win\n",
       "0                10               [[10, 11]]                [[S]]  1.5\n",
       "1                10             [[5, 5, 11]]             [[H, S]]  1.0\n",
       "2                 6                [[3, 10]]                [[S]]  1.0\n",
       "6                 6  [[3, 2, 10], [3, 4, 5]]  [[P, H, S], [H, S]]  2.0\n",
       "8                 5                [[8, 10]]                [[S]]  1.0\n",
       "...             ...                      ...                  ...  ...\n",
       "49984            11             [[5, 5, 10]]          [[N, H, S]]  1.0\n",
       "49988             3                [[3, 10]]                [[S]]  1.0\n",
       "49990             8              [[4, 6, 9]]                [[D]]  2.0\n",
       "49991            10              [[7, 6, 6]]             [[H, S]]  1.0\n",
       "49992             6                 [[9, 5]]                [[S]]  1.0\n",
       "\n",
       "[21193 rows x 4 columns]"
      ]
     },
     "execution_count": 3,
     "metadata": {},
     "output_type": "execute_result"
    }
   ],
   "source": [
    "import pandas as pd\n",
    "\n",
    "rows = 50000\n",
    "df = pd.read_csv('blackjack_simulator.csv', sep=',', nrows=rows)\n",
    "\n",
    "# Remove as colunas não utilizadas\n",
    "df = df.drop(columns=['shoe_id', 'run_count', 'true_count', 'cards_remaining', 'dealer_up', 'initial_hand', 'dealer_final_value', 'player_final_value'])\n",
    "\n",
    "# Filtra os dados por ganho\n",
    "df = df[df['win'] >= 1]\n",
    "\n",
    "# Transforma as strings em listas\n",
    "df['dealer_final'] = df['dealer_final'].apply(lambda x: eval(x)[0])  # Só a primeira carta do dealer será utilizada para emular as informações que um jogador tem\n",
    "df['player_final'] = df['player_final'].apply(lambda x: eval(x))\n",
    "df['actions_taken'] = df['actions_taken'].apply(lambda x: eval(x))\n",
    "df"
   ]
  },
  {
   "cell_type": "code",
   "execution_count": 4,
   "id": "c3f117a2",
   "metadata": {},
   "outputs": [
    {
     "data": {
      "text/html": [
       "<div>\n",
       "<style scoped>\n",
       "    .dataframe tbody tr th:only-of-type {\n",
       "        vertical-align: middle;\n",
       "    }\n",
       "\n",
       "    .dataframe tbody tr th {\n",
       "        vertical-align: top;\n",
       "    }\n",
       "\n",
       "    .dataframe thead th {\n",
       "        text-align: right;\n",
       "    }\n",
       "</style>\n",
       "<table border=\"1\" class=\"dataframe\">\n",
       "  <thead>\n",
       "    <tr style=\"text-align: right;\">\n",
       "      <th></th>\n",
       "      <th>dealer_final</th>\n",
       "      <th>player_final</th>\n",
       "      <th>actions_taken</th>\n",
       "      <th>win</th>\n",
       "    </tr>\n",
       "  </thead>\n",
       "  <tbody>\n",
       "    <tr>\n",
       "      <th>50000</th>\n",
       "      <td>10</td>\n",
       "      <td>21</td>\n",
       "      <td>S</td>\n",
       "      <td>1.0</td>\n",
       "    </tr>\n",
       "    <tr>\n",
       "      <th>50001</th>\n",
       "      <td>6</td>\n",
       "      <td>10</td>\n",
       "      <td>D</td>\n",
       "      <td>2.0</td>\n",
       "    </tr>\n",
       "    <tr>\n",
       "      <th>50002</th>\n",
       "      <td>10</td>\n",
       "      <td>19</td>\n",
       "      <td>S</td>\n",
       "      <td>1.0</td>\n",
       "    </tr>\n",
       "    <tr>\n",
       "      <th>50003</th>\n",
       "      <td>2</td>\n",
       "      <td>18</td>\n",
       "      <td>S</td>\n",
       "      <td>1.0</td>\n",
       "    </tr>\n",
       "    <tr>\n",
       "      <th>50004</th>\n",
       "      <td>3</td>\n",
       "      <td>16</td>\n",
       "      <td>S</td>\n",
       "      <td>1.0</td>\n",
       "    </tr>\n",
       "    <tr>\n",
       "      <th>...</th>\n",
       "      <td>...</td>\n",
       "      <td>...</td>\n",
       "      <td>...</td>\n",
       "      <td>...</td>\n",
       "    </tr>\n",
       "    <tr>\n",
       "      <th>52202</th>\n",
       "      <td>3</td>\n",
       "      <td>13</td>\n",
       "      <td>S</td>\n",
       "      <td>1.0</td>\n",
       "    </tr>\n",
       "    <tr>\n",
       "      <th>52203</th>\n",
       "      <td>8</td>\n",
       "      <td>10</td>\n",
       "      <td>D</td>\n",
       "      <td>2.0</td>\n",
       "    </tr>\n",
       "    <tr>\n",
       "      <th>52204</th>\n",
       "      <td>10</td>\n",
       "      <td>13</td>\n",
       "      <td>H</td>\n",
       "      <td>1.0</td>\n",
       "    </tr>\n",
       "    <tr>\n",
       "      <th>52205</th>\n",
       "      <td>10</td>\n",
       "      <td>19</td>\n",
       "      <td>S</td>\n",
       "      <td>1.0</td>\n",
       "    </tr>\n",
       "    <tr>\n",
       "      <th>52206</th>\n",
       "      <td>6</td>\n",
       "      <td>14</td>\n",
       "      <td>S</td>\n",
       "      <td>1.0</td>\n",
       "    </tr>\n",
       "  </tbody>\n",
       "</table>\n",
       "<p>2207 rows × 4 columns</p>\n",
       "</div>"
      ],
      "text/plain": [
       "       dealer_final player_final actions_taken  win\n",
       "50000            10           21             S  1.0\n",
       "50001             6           10             D  2.0\n",
       "50002            10           19             S  1.0\n",
       "50003             2           18             S  1.0\n",
       "50004             3           16             S  1.0\n",
       "...             ...          ...           ...  ...\n",
       "52202             3           13             S  1.0\n",
       "52203             8           10             D  2.0\n",
       "52204            10           13             H  1.0\n",
       "52205            10           19             S  1.0\n",
       "52206             6           14             S  1.0\n",
       "\n",
       "[2207 rows x 4 columns]"
      ]
     },
     "execution_count": 4,
     "metadata": {},
     "output_type": "execute_result"
    }
   ],
   "source": [
    "# Divide as ações dos players em vários estados de jogo\n",
    "for i in range(0, len(df.index)):\n",
    "    linha = df.loc[i]\n",
    "\n",
    "    for j in range(0, len(linha['actions_taken'])):\n",
    "        mao = linha['player_final'][j]\n",
    "        acoes = linha['actions_taken'][j]\n",
    "\n",
    "        # print({'dealer_final': linha['dealer_final'], 'player_final': mao[:4], 'actions_taken': acoes[0]})\n",
    "\n",
    "        for k in range(0, len(acoes)):\n",
    "            acao = acoes[k]\n",
    "\n",
    "            df = pd.concat([df, pd.DataFrame([{'dealer_final': linha['dealer_final'], 'player_final': sum(mao[:2+k]), 'actions_taken': acoes[k], 'win': linha['win']}])], ignore_index=True)\n",
    "\n",
    "df = df.drop(range(0, rows))\n",
    "df\n"
   ]
  },
  {
   "cell_type": "markdown",
   "id": "bc5af7b9",
   "metadata": {},
   "source": [
    "## 2) Treinamento"
   ]
  },
  {
   "cell_type": "code",
   "execution_count": 5,
   "id": "ad620370",
   "metadata": {},
   "outputs": [
    {
     "name": "stderr",
     "output_type": "stream",
     "text": [
      "/home/erick/Documentos/Projeto_BlackJack/venv/lib/python3.13/site-packages/sklearn/neural_network/_multilayer_perceptron.py:780: ConvergenceWarning: Stochastic Optimizer: Maximum iterations (200) reached and the optimization hasn't converged yet.\n",
      "  warnings.warn(\n"
     ]
    },
    {
     "data": {
      "text/plain": [
       "0.8043478260869565"
      ]
     },
     "execution_count": 5,
     "metadata": {},
     "output_type": "execute_result"
    }
   ],
   "source": [
    "from sklearn.neural_network import MLPClassifier\n",
    "from sklearn.model_selection import train_test_split\n",
    "\n",
    "X = df.drop(['actions_taken', 'win'], axis=1)\n",
    "y = df['actions_taken']\n",
    "\n",
    "X_train, X_test, y_train, y_test = train_test_split(X, y, test_size=0.25)\n",
    "\n",
    "clf = MLPClassifier().fit(X_train, y_train)\n",
    "clf.score(X_test, y_test)"
   ]
  },
  {
   "cell_type": "code",
   "execution_count": 13,
   "id": "c69a0555",
   "metadata": {},
   "outputs": [
    {
     "data": {
      "text/plain": [
       "pandas.core.frame.DataFrame"
      ]
     },
     "execution_count": 13,
     "metadata": {},
     "output_type": "execute_result"
    }
   ],
   "source": [
    "type(X_train[:1])"
   ]
  },
  {
   "cell_type": "code",
   "execution_count": 12,
   "id": "6a6208a9",
   "metadata": {},
   "outputs": [
    {
     "data": {
      "text/plain": [
       "np.str_('S')"
      ]
     },
     "execution_count": 12,
     "metadata": {},
     "output_type": "execute_result"
    }
   ],
   "source": [
    "clf.predict(X_train[:1])[0]"
   ]
  },
  {
   "cell_type": "markdown",
   "id": "93401d6c",
   "metadata": {},
   "source": [
    "## 3) Exportação"
   ]
  },
  {
   "cell_type": "code",
   "execution_count": 8,
   "id": "f2167efa",
   "metadata": {},
   "outputs": [],
   "source": [
    "import pickle\n",
    "\n",
    "with open('model.pkl', 'wb') as f:\n",
    "    pickle.dump(clf, f)"
   ]
  }
 ],
 "metadata": {
  "kernelspec": {
   "display_name": "venv",
   "language": "python",
   "name": "python3"
  },
  "language_info": {
   "codemirror_mode": {
    "name": "ipython",
    "version": 3
   },
   "file_extension": ".py",
   "mimetype": "text/x-python",
   "name": "python",
   "nbconvert_exporter": "python",
   "pygments_lexer": "ipython3",
   "version": "3.13.5"
  }
 },
 "nbformat": 4,
 "nbformat_minor": 5
}
