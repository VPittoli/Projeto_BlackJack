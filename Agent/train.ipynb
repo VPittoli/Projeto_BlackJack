{
 "cells": [
  {
   "cell_type": "markdown",
   "id": "497dd293",
   "metadata": {},
   "source": [
    "# Treinamento Sem card counting\n",
    "\n",
    "Dataset: https://www.kaggle.com/datasets/dennisho/blackjack-hands/\n",
    "\n",
    "Modelo: Regressão logística (sem o uso de card counting)"
   ]
  },
  {
   "cell_type": "markdown",
   "id": "376bc79f",
   "metadata": {},
   "source": [
    "## 1) Tratamento dos dados"
   ]
  },
  {
   "cell_type": "code",
   "execution_count": 14,
   "id": "7cbe2627",
   "metadata": {},
   "outputs": [
    {
     "data": {
      "text/html": [
       "<div>\n",
       "<style scoped>\n",
       "    .dataframe tbody tr th:only-of-type {\n",
       "        vertical-align: middle;\n",
       "    }\n",
       "\n",
       "    .dataframe tbody tr th {\n",
       "        vertical-align: top;\n",
       "    }\n",
       "\n",
       "    .dataframe thead th {\n",
       "        text-align: right;\n",
       "    }\n",
       "</style>\n",
       "<table border=\"1\" class=\"dataframe\">\n",
       "  <thead>\n",
       "    <tr style=\"text-align: right;\">\n",
       "      <th></th>\n",
       "      <th>dealer_final</th>\n",
       "      <th>player_final</th>\n",
       "      <th>actions_taken</th>\n",
       "      <th>win</th>\n",
       "    </tr>\n",
       "  </thead>\n",
       "  <tbody>\n",
       "    <tr>\n",
       "      <th>0</th>\n",
       "      <td>10</td>\n",
       "      <td>[[10, 11]]</td>\n",
       "      <td>[[S]]</td>\n",
       "      <td>1.5</td>\n",
       "    </tr>\n",
       "    <tr>\n",
       "      <th>1</th>\n",
       "      <td>10</td>\n",
       "      <td>[[5, 5, 11]]</td>\n",
       "      <td>[[H, S]]</td>\n",
       "      <td>1.0</td>\n",
       "    </tr>\n",
       "    <tr>\n",
       "      <th>2</th>\n",
       "      <td>6</td>\n",
       "      <td>[[3, 10]]</td>\n",
       "      <td>[[S]]</td>\n",
       "      <td>1.0</td>\n",
       "    </tr>\n",
       "    <tr>\n",
       "      <th>6</th>\n",
       "      <td>6</td>\n",
       "      <td>[[3, 2, 10], [3, 4, 5]]</td>\n",
       "      <td>[[P, H, S], [H, S]]</td>\n",
       "      <td>2.0</td>\n",
       "    </tr>\n",
       "    <tr>\n",
       "      <th>8</th>\n",
       "      <td>5</td>\n",
       "      <td>[[8, 10]]</td>\n",
       "      <td>[[S]]</td>\n",
       "      <td>1.0</td>\n",
       "    </tr>\n",
       "    <tr>\n",
       "      <th>...</th>\n",
       "      <td>...</td>\n",
       "      <td>...</td>\n",
       "      <td>...</td>\n",
       "      <td>...</td>\n",
       "    </tr>\n",
       "    <tr>\n",
       "      <th>24988</th>\n",
       "      <td>3</td>\n",
       "      <td>[[6, 9]]</td>\n",
       "      <td>[[S]]</td>\n",
       "      <td>1.0</td>\n",
       "    </tr>\n",
       "    <tr>\n",
       "      <th>24992</th>\n",
       "      <td>8</td>\n",
       "      <td>[[8, 6, 4]]</td>\n",
       "      <td>[[H, S]]</td>\n",
       "      <td>1.0</td>\n",
       "    </tr>\n",
       "    <tr>\n",
       "      <th>24993</th>\n",
       "      <td>10</td>\n",
       "      <td>[[10, 4, 4]]</td>\n",
       "      <td>[[H, S]]</td>\n",
       "      <td>1.0</td>\n",
       "    </tr>\n",
       "    <tr>\n",
       "      <th>24998</th>\n",
       "      <td>10</td>\n",
       "      <td>[[10, 10]]</td>\n",
       "      <td>[[S]]</td>\n",
       "      <td>1.0</td>\n",
       "    </tr>\n",
       "    <tr>\n",
       "      <th>24999</th>\n",
       "      <td>3</td>\n",
       "      <td>[[8, 11]]</td>\n",
       "      <td>[[S]]</td>\n",
       "      <td>1.0</td>\n",
       "    </tr>\n",
       "  </tbody>\n",
       "</table>\n",
       "<p>10093 rows × 4 columns</p>\n",
       "</div>"
      ],
      "text/plain": [
       "       dealer_final             player_final        actions_taken  win\n",
       "0                10               [[10, 11]]                [[S]]  1.5\n",
       "1                10             [[5, 5, 11]]             [[H, S]]  1.0\n",
       "2                 6                [[3, 10]]                [[S]]  1.0\n",
       "6                 6  [[3, 2, 10], [3, 4, 5]]  [[P, H, S], [H, S]]  2.0\n",
       "8                 5                [[8, 10]]                [[S]]  1.0\n",
       "...             ...                      ...                  ...  ...\n",
       "24988             3                 [[6, 9]]                [[S]]  1.0\n",
       "24992             8              [[8, 6, 4]]             [[H, S]]  1.0\n",
       "24993            10             [[10, 4, 4]]             [[H, S]]  1.0\n",
       "24998            10               [[10, 10]]                [[S]]  1.0\n",
       "24999             3                [[8, 11]]                [[S]]  1.0\n",
       "\n",
       "[10093 rows x 4 columns]"
      ]
     },
     "execution_count": 14,
     "metadata": {},
     "output_type": "execute_result"
    }
   ],
   "source": [
    "import pandas as pd\n",
    "\n",
    "# Número de linhas a serem consideradas\n",
    "rows = 25000\n",
    "\n",
    "df = pd.read_csv('blackjack_simulator.csv', sep=',', nrows=rows)\n",
    "\n",
    "# Remove as colunas não utilizadas\n",
    "df = df.drop(columns=['shoe_id', 'run_count', 'true_count', 'cards_remaining', 'dealer_up', 'initial_hand', 'dealer_final_value', 'player_final_value'])\n",
    "\n",
    "# Filtra os dados por ganho\n",
    "df = df[df['win'] >= 1]\n",
    "\n",
    "# Remove as jogadas que não são utilizadas na simulação\n",
    "df = df[~df['actions_taken'].astype(str).str.contains('N')]\n",
    "\n",
    "# Transforma as strings em listas\n",
    "df['dealer_final'] = df['dealer_final'].apply(lambda x: eval(x)[0])  # Só a primeira carta do dealer será utilizada para emular as informações que um jogador tem\n",
    "df['player_final'] = df['player_final'].apply(lambda x: eval(x))\n",
    "df['actions_taken'] = df['actions_taken'].apply(lambda x: eval(x))\n",
    "\n",
    "rows = len(df)\n",
    "\n",
    "df"
   ]
  },
  {
   "cell_type": "code",
   "execution_count": 15,
   "id": "c3f117a2",
   "metadata": {},
   "outputs": [
    {
     "data": {
      "text/html": [
       "<div>\n",
       "<style scoped>\n",
       "    .dataframe tbody tr th:only-of-type {\n",
       "        vertical-align: middle;\n",
       "    }\n",
       "\n",
       "    .dataframe tbody tr th {\n",
       "        vertical-align: top;\n",
       "    }\n",
       "\n",
       "    .dataframe thead th {\n",
       "        text-align: right;\n",
       "    }\n",
       "</style>\n",
       "<table border=\"1\" class=\"dataframe\">\n",
       "  <thead>\n",
       "    <tr style=\"text-align: right;\">\n",
       "      <th></th>\n",
       "      <th>dealer_final</th>\n",
       "      <th>player_final</th>\n",
       "      <th>actions_taken</th>\n",
       "      <th>win</th>\n",
       "    </tr>\n",
       "  </thead>\n",
       "  <tbody>\n",
       "    <tr>\n",
       "      <th>10093</th>\n",
       "      <td>10</td>\n",
       "      <td>21</td>\n",
       "      <td>S</td>\n",
       "      <td>1.5</td>\n",
       "    </tr>\n",
       "    <tr>\n",
       "      <th>10094</th>\n",
       "      <td>10</td>\n",
       "      <td>10</td>\n",
       "      <td>H</td>\n",
       "      <td>1.0</td>\n",
       "    </tr>\n",
       "    <tr>\n",
       "      <th>10095</th>\n",
       "      <td>10</td>\n",
       "      <td>21</td>\n",
       "      <td>S</td>\n",
       "      <td>1.0</td>\n",
       "    </tr>\n",
       "    <tr>\n",
       "      <th>10096</th>\n",
       "      <td>6</td>\n",
       "      <td>13</td>\n",
       "      <td>S</td>\n",
       "      <td>1.0</td>\n",
       "    </tr>\n",
       "    <tr>\n",
       "      <th>10097</th>\n",
       "      <td>6</td>\n",
       "      <td>5</td>\n",
       "      <td>P</td>\n",
       "      <td>2.0</td>\n",
       "    </tr>\n",
       "    <tr>\n",
       "      <th>...</th>\n",
       "      <td>...</td>\n",
       "      <td>...</td>\n",
       "      <td>...</td>\n",
       "      <td>...</td>\n",
       "    </tr>\n",
       "    <tr>\n",
       "      <th>24305</th>\n",
       "      <td>8</td>\n",
       "      <td>18</td>\n",
       "      <td>S</td>\n",
       "      <td>1.0</td>\n",
       "    </tr>\n",
       "    <tr>\n",
       "      <th>24306</th>\n",
       "      <td>10</td>\n",
       "      <td>14</td>\n",
       "      <td>H</td>\n",
       "      <td>1.0</td>\n",
       "    </tr>\n",
       "    <tr>\n",
       "      <th>24307</th>\n",
       "      <td>10</td>\n",
       "      <td>18</td>\n",
       "      <td>S</td>\n",
       "      <td>1.0</td>\n",
       "    </tr>\n",
       "    <tr>\n",
       "      <th>24308</th>\n",
       "      <td>10</td>\n",
       "      <td>20</td>\n",
       "      <td>S</td>\n",
       "      <td>1.0</td>\n",
       "    </tr>\n",
       "    <tr>\n",
       "      <th>24309</th>\n",
       "      <td>3</td>\n",
       "      <td>19</td>\n",
       "      <td>S</td>\n",
       "      <td>1.0</td>\n",
       "    </tr>\n",
       "  </tbody>\n",
       "</table>\n",
       "<p>14217 rows × 4 columns</p>\n",
       "</div>"
      ],
      "text/plain": [
       "       dealer_final player_final actions_taken  win\n",
       "10093            10           21             S  1.5\n",
       "10094            10           10             H  1.0\n",
       "10095            10           21             S  1.0\n",
       "10096             6           13             S  1.0\n",
       "10097             6            5             P  2.0\n",
       "...             ...          ...           ...  ...\n",
       "24305             8           18             S  1.0\n",
       "24306            10           14             H  1.0\n",
       "24307            10           18             S  1.0\n",
       "24308            10           20             S  1.0\n",
       "24309             3           19             S  1.0\n",
       "\n",
       "[14217 rows x 4 columns]"
      ]
     },
     "execution_count": 15,
     "metadata": {},
     "output_type": "execute_result"
    }
   ],
   "source": [
    "# Divide as ações dos players em vários estados de jogo\n",
    "for i in range(0, len(df.index)):\n",
    "    linha = df.loc[i]\n",
    "\n",
    "    for j in range(0, len(linha['actions_taken'])):\n",
    "        mao = linha['player_final'][j]\n",
    "        acoes = linha['actions_taken'][j]\n",
    "\n",
    "        # print({'dealer_final': linha['dealer_final'], 'player_final': mao[:4], 'actions_taken': acoes[0]})\n",
    "\n",
    "        for k in range(0, len(acoes)):\n",
    "            acao = acoes[k]\n",
    "\n",
    "            df = pd.concat([df, pd.DataFrame([{'dealer_final': linha['dealer_final'], 'player_final': sum(mao[:2+k]), 'actions_taken': acoes[k], 'win': linha['win']}])], ignore_index=True)\n",
    "\n",
    "df = df.drop(range(0, rows))\n",
    "df\n"
   ]
  },
  {
   "cell_type": "markdown",
   "id": "bc5af7b9",
   "metadata": {},
   "source": [
    "## 2) Treinamento"
   ]
  },
  {
   "cell_type": "markdown",
   "id": "edec18ff",
   "metadata": {},
   "source": [
    "### Regressão Logística"
   ]
  },
  {
   "cell_type": "code",
   "execution_count": 16,
   "id": "ad620370",
   "metadata": {},
   "outputs": [
    {
     "data": {
      "text/plain": [
       "0.7834036568213784"
      ]
     },
     "execution_count": 16,
     "metadata": {},
     "output_type": "execute_result"
    }
   ],
   "source": [
    "# from sklearn.neural_network import MLPClassifier\n",
    "from sklearn.linear_model import LogisticRegression\n",
    "from sklearn.model_selection import train_test_split\n",
    "import numpy as np\n",
    "\n",
    "X = df.drop(['actions_taken'], axis=1)\n",
    "y = df['actions_taken']\n",
    "\n",
    "X_train, X_test, y_train, y_test = train_test_split(X, y, test_size=0.2)\n",
    "\n",
    "# clf = MLPClassifier().fit(X_train, y_train)\n",
    "# clf.score()\n",
    "clf_reg_log = LogisticRegression(max_iter=2000, random_state=0).fit(X_train[['dealer_final', 'player_final']], y_train, sample_weight=X_train['win'].values)\n",
    "clf_reg_log.score(X_test.drop('win', axis=1), y_test)"
   ]
  },
  {
   "cell_type": "markdown",
   "id": "cbdf7e7d",
   "metadata": {},
   "source": [
    "#### Probabilidade de realizar cada jogada"
   ]
  },
  {
   "cell_type": "code",
   "execution_count": 17,
   "id": "c69a0555",
   "metadata": {},
   "outputs": [
    {
     "data": {
      "text/html": [
       "<div>\n",
       "<style scoped>\n",
       "    .dataframe tbody tr th:only-of-type {\n",
       "        vertical-align: middle;\n",
       "    }\n",
       "\n",
       "    .dataframe tbody tr th {\n",
       "        vertical-align: top;\n",
       "    }\n",
       "\n",
       "    .dataframe thead th {\n",
       "        text-align: right;\n",
       "    }\n",
       "</style>\n",
       "<table border=\"1\" class=\"dataframe\">\n",
       "  <thead>\n",
       "    <tr style=\"text-align: right;\">\n",
       "      <th></th>\n",
       "      <th>dealer_final</th>\n",
       "      <th>player_final</th>\n",
       "    </tr>\n",
       "  </thead>\n",
       "  <tbody>\n",
       "    <tr>\n",
       "      <th>19647</th>\n",
       "      <td>7</td>\n",
       "      <td>13</td>\n",
       "    </tr>\n",
       "  </tbody>\n",
       "</table>\n",
       "</div>"
      ],
      "text/plain": [
       "       dealer_final player_final\n",
       "19647             7           13"
      ]
     },
     "execution_count": 17,
     "metadata": {},
     "output_type": "execute_result"
    }
   ],
   "source": [
    "# Estado do jogo\n",
    "X_test = X_test.drop('win', axis=1)\n",
    "X_test[:1]"
   ]
  },
  {
   "cell_type": "code",
   "execution_count": 18,
   "id": "183447f7",
   "metadata": {},
   "outputs": [
    {
     "name": "stdout",
     "output_type": "stream",
     "text": [
      "JOGADA: D 28.33 %\n",
      "JOGADA: H 39.83 %\n",
      "JOGADA: P 5.71 %\n",
      "JOGADA: S 26.13 %\n"
     ]
    }
   ],
   "source": [
    "# Probabilidade de realizar cada jogada\n",
    "classes = clf_reg_log.classes_\n",
    "probabilidade = clf_reg_log.predict_proba(X_test[:1])[0]\n",
    "\n",
    "for i in range(0, len(classes)):\n",
    "    print(f'JOGADA: {classes[i]} {probabilidade[i]*100.0:.02f} %')"
   ]
  },
  {
   "cell_type": "code",
   "execution_count": 19,
   "id": "6a6208a9",
   "metadata": {},
   "outputs": [
    {
     "data": {
      "text/plain": [
       "'H'"
      ]
     },
     "execution_count": 19,
     "metadata": {},
     "output_type": "execute_result"
    }
   ],
   "source": [
    "# Jogada a ser realizada\n",
    "clf_reg_log.predict(X_test[:1])[0]"
   ]
  },
  {
   "cell_type": "markdown",
   "id": "3211e615",
   "metadata": {},
   "source": [
    "### Árvore de Decisão"
   ]
  },
  {
   "cell_type": "code",
   "execution_count": 20,
   "id": "94b2eb49",
   "metadata": {},
   "outputs": [
    {
     "data": {
      "text/plain": [
       "0.9194796061884669"
      ]
     },
     "execution_count": 20,
     "metadata": {},
     "output_type": "execute_result"
    }
   ],
   "source": [
    "from sklearn.tree import DecisionTreeClassifier\n",
    "from sklearn.model_selection import train_test_split\n",
    "import numpy as np\n",
    "\n",
    "X = df.drop(['actions_taken'], axis=1)\n",
    "y = df['actions_taken']\n",
    "\n",
    "X_train, X_test, y_train, y_test = train_test_split(X, y, test_size=0.2)\n",
    "\n",
    "clf_arvore = DecisionTreeClassifier().fit(X_train[['dealer_final', 'player_final']], y_train, sample_weight=X_train['win'].values)\n",
    "# clf_reg_log = LogisticRegression(max_iter=2000, random_state=0).fit(X_train[['dealer_final', 'player_final']], y_train, sample_weight=X_train['win'].values)\n",
    "# clf_reg_log.score(X_test.drop('win', axis=1), y_test)\n",
    "clf_arvore.score(X_test.drop('win', axis=1), y_test)"
   ]
  },
  {
   "cell_type": "markdown",
   "id": "60662025",
   "metadata": {},
   "source": [
    "#### Probabilidade de realizar cada jogada"
   ]
  },
  {
   "cell_type": "code",
   "execution_count": 21,
   "id": "e0d28549",
   "metadata": {},
   "outputs": [
    {
     "data": {
      "text/html": [
       "<div>\n",
       "<style scoped>\n",
       "    .dataframe tbody tr th:only-of-type {\n",
       "        vertical-align: middle;\n",
       "    }\n",
       "\n",
       "    .dataframe tbody tr th {\n",
       "        vertical-align: top;\n",
       "    }\n",
       "\n",
       "    .dataframe thead th {\n",
       "        text-align: right;\n",
       "    }\n",
       "</style>\n",
       "<table border=\"1\" class=\"dataframe\">\n",
       "  <thead>\n",
       "    <tr style=\"text-align: right;\">\n",
       "      <th></th>\n",
       "      <th>dealer_final</th>\n",
       "      <th>player_final</th>\n",
       "    </tr>\n",
       "  </thead>\n",
       "  <tbody>\n",
       "    <tr>\n",
       "      <th>18782</th>\n",
       "      <td>6</td>\n",
       "      <td>13</td>\n",
       "    </tr>\n",
       "  </tbody>\n",
       "</table>\n",
       "</div>"
      ],
      "text/plain": [
       "       dealer_final player_final\n",
       "18782             6           13"
      ]
     },
     "execution_count": 21,
     "metadata": {},
     "output_type": "execute_result"
    }
   ],
   "source": [
    "# Estado do jogo\n",
    "X_test = X_test.drop('win', axis=1)\n",
    "X_test[:1]"
   ]
  },
  {
   "cell_type": "code",
   "execution_count": 22,
   "id": "855801f3",
   "metadata": {},
   "outputs": [
    {
     "name": "stdout",
     "output_type": "stream",
     "text": [
      "JOGADA: D 19.01 %\n",
      "JOGADA: H 0.00 %\n",
      "JOGADA: P 9.09 %\n",
      "JOGADA: S 71.90 %\n"
     ]
    }
   ],
   "source": [
    "# Probabilidade de realizar cada jogada\n",
    "classes = clf_arvore.classes_\n",
    "probabilidade = clf_arvore.predict_proba(X_test[:1])[0]\n",
    "\n",
    "for i in range(0, len(classes)):\n",
    "    print(f'JOGADA: {classes[i]} {probabilidade[i]*100.0:.02f} %')"
   ]
  },
  {
   "cell_type": "code",
   "execution_count": 23,
   "id": "ec60bf13",
   "metadata": {},
   "outputs": [
    {
     "data": {
      "text/plain": [
       "'S'"
      ]
     },
     "execution_count": 23,
     "metadata": {},
     "output_type": "execute_result"
    }
   ],
   "source": [
    "# Jogada a ser realizada\n",
    "clf_arvore.predict(X_test[:1])[0]"
   ]
  },
  {
   "cell_type": "markdown",
   "id": "8adf14e1",
   "metadata": {},
   "source": [
    "## 3) Exportação"
   ]
  },
  {
   "cell_type": "code",
   "execution_count": 24,
   "id": "f2167efa",
   "metadata": {},
   "outputs": [],
   "source": [
    "import pickle\n",
    "\n",
    "pickle.dump(clf_reg_log, open('out/reglog.pkl', 'wb'))\n",
    "pickle.dump(clf_arvore, open('out/arvore.pkl', 'wb'))"
   ]
  }
 ],
 "metadata": {
  "kernelspec": {
   "display_name": "venv",
   "language": "python",
   "name": "python3"
  },
  "language_info": {
   "codemirror_mode": {
    "name": "ipython",
    "version": 3
   },
   "file_extension": ".py",
   "mimetype": "text/x-python",
   "name": "python",
   "nbconvert_exporter": "python",
   "pygments_lexer": "ipython3",
   "version": "3.13.5"
  }
 },
 "nbformat": 4,
 "nbformat_minor": 5
}
