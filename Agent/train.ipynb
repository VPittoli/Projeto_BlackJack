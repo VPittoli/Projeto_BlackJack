{
 "cells": [
  {
   "cell_type": "markdown",
   "id": "497dd293",
   "metadata": {},
   "source": [
    "# Treinamento do modelo\n",
    "\n",
    "Dataset: https://www.kaggle.com/datasets/dennisho/blackjack-hands/\n",
    "\n",
    "Modelo: MLP (sem o uso de card counting)"
   ]
  },
  {
   "cell_type": "markdown",
   "id": "376bc79f",
   "metadata": {},
   "source": [
    "## 1) Tratamento dos dados"
   ]
  },
  {
   "cell_type": "code",
   "execution_count": 8,
   "id": "7cbe2627",
   "metadata": {},
   "outputs": [
    {
     "data": {
      "text/html": [
       "<div>\n",
       "<style scoped>\n",
       "    .dataframe tbody tr th:only-of-type {\n",
       "        vertical-align: middle;\n",
       "    }\n",
       "\n",
       "    .dataframe tbody tr th {\n",
       "        vertical-align: top;\n",
       "    }\n",
       "\n",
       "    .dataframe thead th {\n",
       "        text-align: right;\n",
       "    }\n",
       "</style>\n",
       "<table border=\"1\" class=\"dataframe\">\n",
       "  <thead>\n",
       "    <tr style=\"text-align: right;\">\n",
       "      <th></th>\n",
       "      <th>dealer_final</th>\n",
       "      <th>player_final</th>\n",
       "      <th>actions_taken</th>\n",
       "      <th>win</th>\n",
       "    </tr>\n",
       "  </thead>\n",
       "  <tbody>\n",
       "    <tr>\n",
       "      <th>0</th>\n",
       "      <td>10</td>\n",
       "      <td>[[10, 11]]</td>\n",
       "      <td>[[S]]</td>\n",
       "      <td>1.5</td>\n",
       "    </tr>\n",
       "    <tr>\n",
       "      <th>1</th>\n",
       "      <td>10</td>\n",
       "      <td>[[5, 5, 11]]</td>\n",
       "      <td>[[H, S]]</td>\n",
       "      <td>1.0</td>\n",
       "    </tr>\n",
       "    <tr>\n",
       "      <th>2</th>\n",
       "      <td>6</td>\n",
       "      <td>[[3, 10]]</td>\n",
       "      <td>[[S]]</td>\n",
       "      <td>1.0</td>\n",
       "    </tr>\n",
       "    <tr>\n",
       "      <th>6</th>\n",
       "      <td>6</td>\n",
       "      <td>[[3, 2, 10], [3, 4, 5]]</td>\n",
       "      <td>[[P, H, S], [H, S]]</td>\n",
       "      <td>2.0</td>\n",
       "    </tr>\n",
       "    <tr>\n",
       "      <th>8</th>\n",
       "      <td>5</td>\n",
       "      <td>[[8, 10]]</td>\n",
       "      <td>[[S]]</td>\n",
       "      <td>1.0</td>\n",
       "    </tr>\n",
       "    <tr>\n",
       "      <th>...</th>\n",
       "      <td>...</td>\n",
       "      <td>...</td>\n",
       "      <td>...</td>\n",
       "      <td>...</td>\n",
       "    </tr>\n",
       "    <tr>\n",
       "      <th>59991</th>\n",
       "      <td>11</td>\n",
       "      <td>[[2, 8, 3, 7]]</td>\n",
       "      <td>[[N, H, H, S]]</td>\n",
       "      <td>1.0</td>\n",
       "    </tr>\n",
       "    <tr>\n",
       "      <th>59992</th>\n",
       "      <td>9</td>\n",
       "      <td>[[10, 9]]</td>\n",
       "      <td>[[S]]</td>\n",
       "      <td>1.0</td>\n",
       "    </tr>\n",
       "    <tr>\n",
       "      <th>59993</th>\n",
       "      <td>4</td>\n",
       "      <td>[[7, 3, 10]]</td>\n",
       "      <td>[[D]]</td>\n",
       "      <td>2.0</td>\n",
       "    </tr>\n",
       "    <tr>\n",
       "      <th>59994</th>\n",
       "      <td>10</td>\n",
       "      <td>[[9, 10]]</td>\n",
       "      <td>[[S]]</td>\n",
       "      <td>1.0</td>\n",
       "    </tr>\n",
       "    <tr>\n",
       "      <th>59995</th>\n",
       "      <td>9</td>\n",
       "      <td>[[6, 5, 6]]</td>\n",
       "      <td>[[D]]</td>\n",
       "      <td>2.0</td>\n",
       "    </tr>\n",
       "  </tbody>\n",
       "</table>\n",
       "<p>25405 rows × 4 columns</p>\n",
       "</div>"
      ],
      "text/plain": [
       "       dealer_final             player_final        actions_taken  win\n",
       "0                10               [[10, 11]]                [[S]]  1.5\n",
       "1                10             [[5, 5, 11]]             [[H, S]]  1.0\n",
       "2                 6                [[3, 10]]                [[S]]  1.0\n",
       "6                 6  [[3, 2, 10], [3, 4, 5]]  [[P, H, S], [H, S]]  2.0\n",
       "8                 5                [[8, 10]]                [[S]]  1.0\n",
       "...             ...                      ...                  ...  ...\n",
       "59991            11           [[2, 8, 3, 7]]       [[N, H, H, S]]  1.0\n",
       "59992             9                [[10, 9]]                [[S]]  1.0\n",
       "59993             4             [[7, 3, 10]]                [[D]]  2.0\n",
       "59994            10                [[9, 10]]                [[S]]  1.0\n",
       "59995             9              [[6, 5, 6]]                [[D]]  2.0\n",
       "\n",
       "[25405 rows x 4 columns]"
      ]
     },
     "execution_count": 8,
     "metadata": {},
     "output_type": "execute_result"
    }
   ],
   "source": [
    "import pandas as pd\n",
    "\n",
    "rows = 60000\n",
    "df = pd.read_csv('blackjack_simulator.csv', sep=',', nrows=rows)\n",
    "\n",
    "# Remove as colunas não utilizadas\n",
    "df = df.drop(columns=['shoe_id', 'run_count', 'true_count', 'cards_remaining', 'dealer_up', 'initial_hand', 'dealer_final_value', 'player_final_value'])\n",
    "\n",
    "# Filtra os dados por ganho\n",
    "df = df[df['win'] >= 1]\n",
    "\n",
    "# Transforma as strings em listas\n",
    "df['dealer_final'] = df['dealer_final'].apply(lambda x: eval(x)[0])  # Só a primeira carta do dealer será utilizada para emular as informações que um jogador tem\n",
    "df['player_final'] = df['player_final'].apply(lambda x: eval(x))\n",
    "df['actions_taken'] = df['actions_taken'].apply(lambda x: eval(x))\n",
    "df"
   ]
  },
  {
   "cell_type": "code",
   "execution_count": 9,
   "id": "c3f117a2",
   "metadata": {},
   "outputs": [
    {
     "data": {
      "text/html": [
       "<div>\n",
       "<style scoped>\n",
       "    .dataframe tbody tr th:only-of-type {\n",
       "        vertical-align: middle;\n",
       "    }\n",
       "\n",
       "    .dataframe tbody tr th {\n",
       "        vertical-align: top;\n",
       "    }\n",
       "\n",
       "    .dataframe thead th {\n",
       "        text-align: right;\n",
       "    }\n",
       "</style>\n",
       "<table border=\"1\" class=\"dataframe\">\n",
       "  <thead>\n",
       "    <tr style=\"text-align: right;\">\n",
       "      <th></th>\n",
       "      <th>dealer_final</th>\n",
       "      <th>player_final</th>\n",
       "      <th>actions_taken</th>\n",
       "      <th>win</th>\n",
       "    </tr>\n",
       "  </thead>\n",
       "  <tbody>\n",
       "    <tr>\n",
       "      <th>60000</th>\n",
       "      <td>6</td>\n",
       "      <td>18</td>\n",
       "      <td>D</td>\n",
       "      <td>2.0</td>\n",
       "    </tr>\n",
       "    <tr>\n",
       "      <th>60001</th>\n",
       "      <td>7</td>\n",
       "      <td>7</td>\n",
       "      <td>H</td>\n",
       "      <td>1.0</td>\n",
       "    </tr>\n",
       "    <tr>\n",
       "      <th>60002</th>\n",
       "      <td>7</td>\n",
       "      <td>17</td>\n",
       "      <td>S</td>\n",
       "      <td>1.0</td>\n",
       "    </tr>\n",
       "    <tr>\n",
       "      <th>60003</th>\n",
       "      <td>10</td>\n",
       "      <td>11</td>\n",
       "      <td>D</td>\n",
       "      <td>2.0</td>\n",
       "    </tr>\n",
       "    <tr>\n",
       "      <th>60004</th>\n",
       "      <td>6</td>\n",
       "      <td>10</td>\n",
       "      <td>D</td>\n",
       "      <td>2.0</td>\n",
       "    </tr>\n",
       "    <tr>\n",
       "      <th>...</th>\n",
       "      <td>...</td>\n",
       "      <td>...</td>\n",
       "      <td>...</td>\n",
       "      <td>...</td>\n",
       "    </tr>\n",
       "    <tr>\n",
       "      <th>62574</th>\n",
       "      <td>11</td>\n",
       "      <td>20</td>\n",
       "      <td>S</td>\n",
       "      <td>1.0</td>\n",
       "    </tr>\n",
       "    <tr>\n",
       "      <th>62575</th>\n",
       "      <td>9</td>\n",
       "      <td>19</td>\n",
       "      <td>S</td>\n",
       "      <td>1.0</td>\n",
       "    </tr>\n",
       "    <tr>\n",
       "      <th>62576</th>\n",
       "      <td>4</td>\n",
       "      <td>10</td>\n",
       "      <td>D</td>\n",
       "      <td>2.0</td>\n",
       "    </tr>\n",
       "    <tr>\n",
       "      <th>62577</th>\n",
       "      <td>10</td>\n",
       "      <td>19</td>\n",
       "      <td>S</td>\n",
       "      <td>1.0</td>\n",
       "    </tr>\n",
       "    <tr>\n",
       "      <th>62578</th>\n",
       "      <td>9</td>\n",
       "      <td>11</td>\n",
       "      <td>D</td>\n",
       "      <td>2.0</td>\n",
       "    </tr>\n",
       "  </tbody>\n",
       "</table>\n",
       "<p>2579 rows × 4 columns</p>\n",
       "</div>"
      ],
      "text/plain": [
       "       dealer_final player_final actions_taken  win\n",
       "60000             6           18             D  2.0\n",
       "60001             7            7             H  1.0\n",
       "60002             7           17             S  1.0\n",
       "60003            10           11             D  2.0\n",
       "60004             6           10             D  2.0\n",
       "...             ...          ...           ...  ...\n",
       "62574            11           20             S  1.0\n",
       "62575             9           19             S  1.0\n",
       "62576             4           10             D  2.0\n",
       "62577            10           19             S  1.0\n",
       "62578             9           11             D  2.0\n",
       "\n",
       "[2579 rows x 4 columns]"
      ]
     },
     "execution_count": 9,
     "metadata": {},
     "output_type": "execute_result"
    }
   ],
   "source": [
    "# Divide as ações dos players em vários estados de jogo\n",
    "for i in range(0, len(df.index)):\n",
    "    linha = df.loc[i]\n",
    "\n",
    "    for j in range(0, len(linha['actions_taken'])):\n",
    "        mao = linha['player_final'][j]\n",
    "        acoes = linha['actions_taken'][j]\n",
    "\n",
    "        # print({'dealer_final': linha['dealer_final'], 'player_final': mao[:4], 'actions_taken': acoes[0]})\n",
    "\n",
    "        for k in range(0, len(acoes)):\n",
    "            acao = acoes[k]\n",
    "\n",
    "            df = pd.concat([df, pd.DataFrame([{'dealer_final': linha['dealer_final'], 'player_final': sum(mao[:2+k]), 'actions_taken': acoes[k], 'win': linha['win']}])], ignore_index=True)\n",
    "\n",
    "df = df.drop(range(0, rows))\n",
    "df\n"
   ]
  },
  {
   "cell_type": "markdown",
   "id": "bc5af7b9",
   "metadata": {},
   "source": [
    "## 2) Treinamento"
   ]
  },
  {
   "cell_type": "code",
   "execution_count": 32,
   "id": "ad620370",
   "metadata": {},
   "outputs": [
    {
     "data": {
      "text/plain": [
       "0.7810077519379846"
      ]
     },
     "execution_count": 32,
     "metadata": {},
     "output_type": "execute_result"
    }
   ],
   "source": [
    "# from sklearn.neural_network import MLPClassifier\n",
    "from sklearn.linear_model import LogisticRegression\n",
    "from sklearn.model_selection import train_test_split\n",
    "import numpy as np\n",
    "\n",
    "X = df.drop(['actions_taken'], axis=1)\n",
    "y = df['actions_taken']\n",
    "\n",
    "X_train, X_test, y_train, y_test = train_test_split(X, y, test_size=0.2)\n",
    "\n",
    "# clf = MLPClassifier().fit(X_train, y_train)\n",
    "# clf.score()\n",
    "clf = LogisticRegression(max_iter=2000, random_state=0).fit(X_train[['dealer_final', 'player_final']], y_train, sample_weight=X_train['win'].values)\n",
    "clf.score(X_test.drop('win', axis=1), y_test)"
   ]
  },
  {
   "cell_type": "markdown",
   "id": "cbdf7e7d",
   "metadata": {},
   "source": [
    "### Probabilidade de realizar cada jogada"
   ]
  },
  {
   "cell_type": "code",
   "execution_count": 33,
   "id": "c69a0555",
   "metadata": {},
   "outputs": [
    {
     "data": {
      "text/html": [
       "<div>\n",
       "<style scoped>\n",
       "    .dataframe tbody tr th:only-of-type {\n",
       "        vertical-align: middle;\n",
       "    }\n",
       "\n",
       "    .dataframe tbody tr th {\n",
       "        vertical-align: top;\n",
       "    }\n",
       "\n",
       "    .dataframe thead th {\n",
       "        text-align: right;\n",
       "    }\n",
       "</style>\n",
       "<table border=\"1\" class=\"dataframe\">\n",
       "  <thead>\n",
       "    <tr style=\"text-align: right;\">\n",
       "      <th></th>\n",
       "      <th>dealer_final</th>\n",
       "      <th>player_final</th>\n",
       "    </tr>\n",
       "  </thead>\n",
       "  <tbody>\n",
       "    <tr>\n",
       "      <th>60881</th>\n",
       "      <td>7</td>\n",
       "      <td>5</td>\n",
       "    </tr>\n",
       "  </tbody>\n",
       "</table>\n",
       "</div>"
      ],
      "text/plain": [
       "       dealer_final player_final\n",
       "60881             7            5"
      ]
     },
     "execution_count": 33,
     "metadata": {},
     "output_type": "execute_result"
    }
   ],
   "source": [
    "# Estado do jogo\n",
    "X_test = X_test.drop('win', axis=1)\n",
    "X_test[:1]"
   ]
  },
  {
   "cell_type": "code",
   "execution_count": 34,
   "id": "183447f7",
   "metadata": {},
   "outputs": [
    {
     "name": "stdout",
     "output_type": "stream",
     "text": [
      "JOGADA: D 44.57 %\n",
      "JOGADA: H 51.38 %\n",
      "JOGADA: N 0.00 %\n",
      "JOGADA: P 2.86 %\n",
      "JOGADA: S 1.19 %\n"
     ]
    }
   ],
   "source": [
    "# Probabilidade de realizar cada jogada\n",
    "classes = clf.classes_\n",
    "probabilidade = clf.predict_proba(X_test[:1])[0]\n",
    "\n",
    "for i in range(0, len(classes)):\n",
    "    print(f'JOGADA: {classes[i]} {probabilidade[i]*100.0:.02f} %')"
   ]
  },
  {
   "cell_type": "code",
   "execution_count": 35,
   "id": "6a6208a9",
   "metadata": {},
   "outputs": [
    {
     "data": {
      "text/plain": [
       "'H'"
      ]
     },
     "execution_count": 35,
     "metadata": {},
     "output_type": "execute_result"
    }
   ],
   "source": [
    "# Jogada a ser realizada\n",
    "clf.predict(X_test[:1])[0]"
   ]
  },
  {
   "cell_type": "markdown",
   "id": "93401d6c",
   "metadata": {},
   "source": [
    "## 3) Exportação"
   ]
  },
  {
   "cell_type": "code",
   "execution_count": 7,
   "id": "f2167efa",
   "metadata": {},
   "outputs": [],
   "source": [
    "import pickle\n",
    "\n",
    "with open('model.pkl', 'wb') as f:\n",
    "    pickle.dump(clf, f)"
   ]
  }
 ],
 "metadata": {
  "kernelspec": {
   "display_name": "venv",
   "language": "python",
   "name": "python3"
  },
  "language_info": {
   "codemirror_mode": {
    "name": "ipython",
    "version": 3
   },
   "file_extension": ".py",
   "mimetype": "text/x-python",
   "name": "python",
   "nbconvert_exporter": "python",
   "pygments_lexer": "ipython3",
   "version": "3.13.5"
  }
 },
 "nbformat": 4,
 "nbformat_minor": 5
}
